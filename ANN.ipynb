{
 "cells": [
  {
   "cell_type": "code",
   "execution_count": 1,
   "metadata": {},
   "outputs": [
    {
     "name": "stderr",
     "output_type": "stream",
     "text": [
      "C:\\Users\\vikas\\Anaconda3\\envs\\deeplearning\\lib\\site-packages\\tensorflow\\python\\framework\\dtypes.py:516: FutureWarning: Passing (type, 1) or '1type' as a synonym of type is deprecated; in a future version of numpy, it will be understood as (type, (1,)) / '(1,)type'.\n",
      "  _np_qint8 = np.dtype([(\"qint8\", np.int8, 1)])\n",
      "C:\\Users\\vikas\\Anaconda3\\envs\\deeplearning\\lib\\site-packages\\tensorflow\\python\\framework\\dtypes.py:517: FutureWarning: Passing (type, 1) or '1type' as a synonym of type is deprecated; in a future version of numpy, it will be understood as (type, (1,)) / '(1,)type'.\n",
      "  _np_quint8 = np.dtype([(\"quint8\", np.uint8, 1)])\n",
      "C:\\Users\\vikas\\Anaconda3\\envs\\deeplearning\\lib\\site-packages\\tensorflow\\python\\framework\\dtypes.py:518: FutureWarning: Passing (type, 1) or '1type' as a synonym of type is deprecated; in a future version of numpy, it will be understood as (type, (1,)) / '(1,)type'.\n",
      "  _np_qint16 = np.dtype([(\"qint16\", np.int16, 1)])\n",
      "C:\\Users\\vikas\\Anaconda3\\envs\\deeplearning\\lib\\site-packages\\tensorflow\\python\\framework\\dtypes.py:519: FutureWarning: Passing (type, 1) or '1type' as a synonym of type is deprecated; in a future version of numpy, it will be understood as (type, (1,)) / '(1,)type'.\n",
      "  _np_quint16 = np.dtype([(\"quint16\", np.uint16, 1)])\n",
      "C:\\Users\\vikas\\Anaconda3\\envs\\deeplearning\\lib\\site-packages\\tensorflow\\python\\framework\\dtypes.py:520: FutureWarning: Passing (type, 1) or '1type' as a synonym of type is deprecated; in a future version of numpy, it will be understood as (type, (1,)) / '(1,)type'.\n",
      "  _np_qint32 = np.dtype([(\"qint32\", np.int32, 1)])\n",
      "C:\\Users\\vikas\\Anaconda3\\envs\\deeplearning\\lib\\site-packages\\tensorflow\\python\\framework\\dtypes.py:525: FutureWarning: Passing (type, 1) or '1type' as a synonym of type is deprecated; in a future version of numpy, it will be understood as (type, (1,)) / '(1,)type'.\n",
      "  np_resource = np.dtype([(\"resource\", np.ubyte, 1)])\n",
      "C:\\Users\\vikas\\Anaconda3\\envs\\deeplearning\\lib\\site-packages\\tensorboard\\compat\\tensorflow_stub\\dtypes.py:541: FutureWarning: Passing (type, 1) or '1type' as a synonym of type is deprecated; in a future version of numpy, it will be understood as (type, (1,)) / '(1,)type'.\n",
      "  _np_qint8 = np.dtype([(\"qint8\", np.int8, 1)])\n",
      "C:\\Users\\vikas\\Anaconda3\\envs\\deeplearning\\lib\\site-packages\\tensorboard\\compat\\tensorflow_stub\\dtypes.py:542: FutureWarning: Passing (type, 1) or '1type' as a synonym of type is deprecated; in a future version of numpy, it will be understood as (type, (1,)) / '(1,)type'.\n",
      "  _np_quint8 = np.dtype([(\"quint8\", np.uint8, 1)])\n",
      "C:\\Users\\vikas\\Anaconda3\\envs\\deeplearning\\lib\\site-packages\\tensorboard\\compat\\tensorflow_stub\\dtypes.py:543: FutureWarning: Passing (type, 1) or '1type' as a synonym of type is deprecated; in a future version of numpy, it will be understood as (type, (1,)) / '(1,)type'.\n",
      "  _np_qint16 = np.dtype([(\"qint16\", np.int16, 1)])\n",
      "C:\\Users\\vikas\\Anaconda3\\envs\\deeplearning\\lib\\site-packages\\tensorboard\\compat\\tensorflow_stub\\dtypes.py:544: FutureWarning: Passing (type, 1) or '1type' as a synonym of type is deprecated; in a future version of numpy, it will be understood as (type, (1,)) / '(1,)type'.\n",
      "  _np_quint16 = np.dtype([(\"quint16\", np.uint16, 1)])\n",
      "C:\\Users\\vikas\\Anaconda3\\envs\\deeplearning\\lib\\site-packages\\tensorboard\\compat\\tensorflow_stub\\dtypes.py:545: FutureWarning: Passing (type, 1) or '1type' as a synonym of type is deprecated; in a future version of numpy, it will be understood as (type, (1,)) / '(1,)type'.\n",
      "  _np_qint32 = np.dtype([(\"qint32\", np.int32, 1)])\n",
      "C:\\Users\\vikas\\Anaconda3\\envs\\deeplearning\\lib\\site-packages\\tensorboard\\compat\\tensorflow_stub\\dtypes.py:550: FutureWarning: Passing (type, 1) or '1type' as a synonym of type is deprecated; in a future version of numpy, it will be understood as (type, (1,)) / '(1,)type'.\n",
      "  np_resource = np.dtype([(\"resource\", np.ubyte, 1)])\n"
     ]
    }
   ],
   "source": [
    "import numpy as np\n",
    "import matplotlib.pyplot as plt\n",
    "import pandas as pd\n",
    "import tensorflow\n"
   ]
  },
  {
   "cell_type": "code",
   "execution_count": 20,
   "metadata": {},
   "outputs": [
    {
     "data": {
      "text/plain": [
       "0       1\n",
       "1       0\n",
       "2       1\n",
       "3       0\n",
       "4       0\n",
       "       ..\n",
       "9995    0\n",
       "9996    0\n",
       "9997    1\n",
       "9998    1\n",
       "9999    0\n",
       "Name: Exited, Length: 10000, dtype: int64"
      ]
     },
     "execution_count": 20,
     "metadata": {},
     "output_type": "execute_result"
    }
   ],
   "source": [
    "dataset = pd.read_csv('Churn_Modelling.csv')\n",
    "X = dataset.iloc[:, 3:13]\n",
    "y = dataset.iloc[:, 13]"
   ]
  },
  {
   "cell_type": "code",
   "execution_count": 3,
   "metadata": {},
   "outputs": [],
   "source": [
    "#Create dummy variables\n",
    "geography=pd.get_dummies(X[\"Geography\"],drop_first=True)\n",
    "gender=pd.get_dummies(X['Gender'],drop_first=True)\n"
   ]
  },
  {
   "cell_type": "code",
   "execution_count": 4,
   "metadata": {},
   "outputs": [],
   "source": [
    "X=pd.concat([X,geography,gender],axis=1)"
   ]
  },
  {
   "cell_type": "code",
   "execution_count": 5,
   "metadata": {},
   "outputs": [],
   "source": [
    "X=X.drop(['Geography','Gender'],axis=1)"
   ]
  },
  {
   "cell_type": "code",
   "execution_count": 6,
   "metadata": {},
   "outputs": [],
   "source": [
    "from sklearn.model_selection import train_test_split\n",
    "X_train, X_test, y_train, y_test = train_test_split(X, y, test_size = 0.2, random_state = 0)"
   ]
  },
  {
   "cell_type": "code",
   "execution_count": 7,
   "metadata": {},
   "outputs": [],
   "source": [
    "# Feature Scaling\n",
    "from sklearn.preprocessing import StandardScaler\n",
    "sc = StandardScaler()\n",
    "X_train = sc.fit_transform(X_train)\n",
    "X_test = sc.transform(X_test)"
   ]
  },
  {
   "cell_type": "code",
   "execution_count": 8,
   "metadata": {},
   "outputs": [
    {
     "name": "stderr",
     "output_type": "stream",
     "text": [
      "Using TensorFlow backend.\n"
     ]
    }
   ],
   "source": [
    "# Part 2 - Now let's make the ANN!\n",
    "\n",
    "# Importing the Keras libraries and packages\n",
    "import keras\n",
    "from keras.models import Sequential\n",
    "from keras.layers import Dense\n",
    "from keras.layers import LeakyReLU,PReLU,ELU\n",
    "from keras.layers import Dropout\n"
   ]
  },
  {
   "cell_type": "code",
   "execution_count": 9,
   "metadata": {},
   "outputs": [],
   "source": [
    "classifier = Sequential()"
   ]
  },
  {
   "cell_type": "code",
   "execution_count": 10,
   "metadata": {},
   "outputs": [],
   "source": [
    "# Adding the input layer and the first hidden layer\n",
    "classifier.add(Dense(units = 6, kernel_initializer = 'he_uniform',activation='relu',input_dim = 11))\n",
    "# Adding the second hidden layer\n",
    "classifier.add(Dense(units = 6, kernel_initializer = 'he_uniform',activation='relu'))\n",
    "# Adding the output layer\n",
    "classifier.add(Dense(units = 1, kernel_initializer = 'glorot_uniform', activation = 'sigmoid'))"
   ]
  },
  {
   "cell_type": "code",
   "execution_count": 11,
   "metadata": {},
   "outputs": [
    {
     "name": "stdout",
     "output_type": "stream",
     "text": [
      "WARNING:tensorflow:From C:\\Users\\vikas\\Anaconda3\\envs\\deeplearning\\lib\\site-packages\\tensorflow\\python\\ops\\nn_impl.py:180: add_dispatch_support.<locals>.wrapper (from tensorflow.python.ops.array_ops) is deprecated and will be removed in a future version.\n",
      "Instructions for updating:\n",
      "Use tf.where in 2.0, which has the same broadcast rule as np.where\n"
     ]
    },
    {
     "name": "stderr",
     "output_type": "stream",
     "text": [
      "C:\\Users\\vikas\\Anaconda3\\envs\\deeplearning\\lib\\site-packages\\ipykernel_launcher.py:5: UserWarning: The `nb_epoch` argument in `fit` has been renamed `epochs`.\n",
      "  \"\"\"\n"
     ]
    },
    {
     "name": "stdout",
     "output_type": "stream",
     "text": [
      "WARNING:tensorflow:From C:\\Users\\vikas\\Anaconda3\\envs\\deeplearning\\lib\\site-packages\\keras\\backend\\tensorflow_backend.py:422: The name tf.global_variables is deprecated. Please use tf.compat.v1.global_variables instead.\n",
      "\n",
      "Train on 5359 samples, validate on 2641 samples\n",
      "Epoch 1/100\n",
      "5359/5359 [==============================] - 2s 420us/step - loss: 0.6044 - accuracy: 0.7218 - val_loss: 0.5244 - val_accuracy: 0.7883\n",
      "Epoch 2/100\n",
      "5359/5359 [==============================] - 1s 262us/step - loss: 0.4989 - accuracy: 0.7972 - val_loss: 0.4819 - val_accuracy: 0.7967\n",
      "Epoch 3/100\n",
      "5359/5359 [==============================] - 1s 254us/step - loss: 0.4672 - accuracy: 0.8020 - val_loss: 0.4587 - val_accuracy: 0.8001\n",
      "Epoch 4/100\n",
      "5359/5359 [==============================] - 1s 191us/step - loss: 0.4475 - accuracy: 0.8041 - val_loss: 0.4442 - val_accuracy: 0.8012\n",
      "Epoch 5/100\n",
      "5359/5359 [==============================] - 1s 185us/step - loss: 0.4339 - accuracy: 0.8056 - val_loss: 0.4335 - val_accuracy: 0.8039\n",
      "Epoch 6/100\n",
      "5359/5359 [==============================] - 1s 215us/step - loss: 0.4226 - accuracy: 0.8080 - val_loss: 0.4239 - val_accuracy: 0.8039\n",
      "Epoch 7/100\n",
      "5359/5359 [==============================] - 1s 186us/step - loss: 0.4128 - accuracy: 0.8112 - val_loss: 0.4161 - val_accuracy: 0.8073\n",
      "Epoch 8/100\n",
      "5359/5359 [==============================] - 1s 177us/step - loss: 0.4048 - accuracy: 0.8134 - val_loss: 0.4096 - val_accuracy: 0.8095\n",
      "Epoch 9/100\n",
      "5359/5359 [==============================] - 1s 176us/step - loss: 0.3975 - accuracy: 0.8160 - val_loss: 0.4034 - val_accuracy: 0.8111\n",
      "Epoch 10/100\n",
      "5359/5359 [==============================] - 1s 220us/step - loss: 0.3915 - accuracy: 0.8179 - val_loss: 0.3988 - val_accuracy: 0.8126\n",
      "Epoch 11/100\n",
      "5359/5359 [==============================] - 1s 182us/step - loss: 0.3862 - accuracy: 0.8197 - val_loss: 0.3950 - val_accuracy: 0.8156\n",
      "Epoch 12/100\n",
      "5359/5359 [==============================] - 1s 178us/step - loss: 0.3818 - accuracy: 0.8220 - val_loss: 0.3920 - val_accuracy: 0.8167\n",
      "Epoch 13/100\n",
      "5359/5359 [==============================] - 1s 181us/step - loss: 0.3783 - accuracy: 0.8237 - val_loss: 0.3899 - val_accuracy: 0.8183\n",
      "Epoch 14/100\n",
      "5359/5359 [==============================] - 1s 178us/step - loss: 0.3752 - accuracy: 0.8240 - val_loss: 0.3881 - val_accuracy: 0.8164\n",
      "Epoch 15/100\n",
      "5359/5359 [==============================] - 1s 231us/step - loss: 0.3731 - accuracy: 0.8248 - val_loss: 0.3862 - val_accuracy: 0.8160\n",
      "Epoch 16/100\n",
      "5359/5359 [==============================] - 1s 184us/step - loss: 0.3710 - accuracy: 0.8253 - val_loss: 0.3852 - val_accuracy: 0.8164\n",
      "Epoch 17/100\n",
      "5359/5359 [==============================] - 1s 178us/step - loss: 0.3695 - accuracy: 0.8255 - val_loss: 0.3841 - val_accuracy: 0.8186\n",
      "Epoch 18/100\n",
      "5359/5359 [==============================] - 1s 178us/step - loss: 0.3680 - accuracy: 0.8263 - val_loss: 0.3831 - val_accuracy: 0.8201\n",
      "Epoch 19/100\n",
      "5359/5359 [==============================] - 1s 276us/step - loss: 0.3667 - accuracy: 0.8266 - val_loss: 0.3825 - val_accuracy: 0.8194\n",
      "Epoch 20/100\n",
      "5359/5359 [==============================] - 1s 185us/step - loss: 0.3655 - accuracy: 0.8274 - val_loss: 0.3817 - val_accuracy: 0.8201\n",
      "Epoch 21/100\n",
      "5359/5359 [==============================] - 1s 178us/step - loss: 0.3642 - accuracy: 0.8263 - val_loss: 0.3811 - val_accuracy: 0.8213\n",
      "Epoch 22/100\n",
      "5359/5359 [==============================] - 1s 211us/step - loss: 0.3633 - accuracy: 0.8266 - val_loss: 0.3817 - val_accuracy: 0.8205\n",
      "Epoch 23/100\n",
      "5359/5359 [==============================] - 1s 215us/step - loss: 0.3632 - accuracy: 0.8272 - val_loss: 0.3804 - val_accuracy: 0.8217\n",
      "Epoch 24/100\n",
      "5359/5359 [==============================] - 1s 215us/step - loss: 0.3622 - accuracy: 0.8287 - val_loss: 0.3802 - val_accuracy: 0.8220\n",
      "Epoch 25/100\n",
      "5359/5359 [==============================] - 1s 208us/step - loss: 0.3614 - accuracy: 0.8304 - val_loss: 0.3798 - val_accuracy: 0.8209\n",
      "Epoch 26/100\n",
      "5359/5359 [==============================] - 1s 200us/step - loss: 0.3606 - accuracy: 0.8298 - val_loss: 0.3791 - val_accuracy: 0.8247\n",
      "Epoch 27/100\n",
      "5359/5359 [==============================] - 1s 215us/step - loss: 0.3596 - accuracy: 0.8306 - val_loss: 0.3790 - val_accuracy: 0.8247\n",
      "Epoch 28/100\n",
      "5359/5359 [==============================] - 1s 243us/step - loss: 0.3590 - accuracy: 0.8304 - val_loss: 0.3783 - val_accuracy: 0.8194\n",
      "Epoch 29/100\n",
      "5359/5359 [==============================] - 1s 215us/step - loss: 0.3583 - accuracy: 0.8365 - val_loss: 0.3778 - val_accuracy: 0.8364\n",
      "Epoch 30/100\n",
      "5359/5359 [==============================] - 1s 177us/step - loss: 0.3575 - accuracy: 0.8446 - val_loss: 0.3778 - val_accuracy: 0.8349\n",
      "Epoch 31/100\n",
      "5359/5359 [==============================] - 1s 177us/step - loss: 0.3571 - accuracy: 0.8438 - val_loss: 0.3769 - val_accuracy: 0.8379\n",
      "Epoch 32/100\n",
      "5359/5359 [==============================] - 1s 186us/step - loss: 0.3564 - accuracy: 0.8451 - val_loss: 0.3768 - val_accuracy: 0.8376\n",
      "Epoch 33/100\n",
      "5359/5359 [==============================] - 1s 273us/step - loss: 0.3558 - accuracy: 0.8483 - val_loss: 0.3762 - val_accuracy: 0.8395\n",
      "Epoch 34/100\n",
      "5359/5359 [==============================] - 1s 223us/step - loss: 0.3546 - accuracy: 0.8487 - val_loss: 0.3756 - val_accuracy: 0.8413\n",
      "Epoch 35/100\n",
      "5359/5359 [==============================] - 2s 286us/step - loss: 0.3537 - accuracy: 0.8466 - val_loss: 0.3759 - val_accuracy: 0.8413\n",
      "Epoch 36/100\n",
      "5359/5359 [==============================] - 2s 281us/step - loss: 0.3530 - accuracy: 0.8477 - val_loss: 0.3745 - val_accuracy: 0.8417\n",
      "Epoch 37/100\n",
      "5359/5359 [==============================] - 1s 218us/step - loss: 0.3521 - accuracy: 0.8509 - val_loss: 0.3739 - val_accuracy: 0.8425\n",
      "Epoch 38/100\n",
      "5359/5359 [==============================] - 1s 244us/step - loss: 0.3507 - accuracy: 0.8513 - val_loss: 0.3738 - val_accuracy: 0.8425\n",
      "Epoch 39/100\n",
      "5359/5359 [==============================] - 1s 189us/step - loss: 0.3503 - accuracy: 0.8503 - val_loss: 0.3727 - val_accuracy: 0.8444\n",
      "Epoch 40/100\n",
      "5359/5359 [==============================] - 1s 179us/step - loss: 0.3492 - accuracy: 0.8502 - val_loss: 0.3727 - val_accuracy: 0.8463\n",
      "Epoch 41/100\n",
      "5359/5359 [==============================] - 1s 195us/step - loss: 0.3486 - accuracy: 0.8522 - val_loss: 0.3715 - val_accuracy: 0.8474\n",
      "Epoch 42/100\n",
      "5359/5359 [==============================] - 1s 245us/step - loss: 0.3477 - accuracy: 0.8537 - val_loss: 0.3708 - val_accuracy: 0.8470\n",
      "Epoch 43/100\n",
      "5359/5359 [==============================] - 1s 209us/step - loss: 0.3466 - accuracy: 0.8543 - val_loss: 0.3706 - val_accuracy: 0.8466\n",
      "Epoch 44/100\n",
      "5359/5359 [==============================] - 1s 190us/step - loss: 0.3458 - accuracy: 0.8559 - val_loss: 0.3694 - val_accuracy: 0.8482\n",
      "Epoch 45/100\n",
      "5359/5359 [==============================] - 1s 185us/step - loss: 0.3453 - accuracy: 0.8554 - val_loss: 0.3689 - val_accuracy: 0.8466\n",
      "Epoch 46/100\n",
      "5359/5359 [==============================] - 1s 202us/step - loss: 0.3446 - accuracy: 0.8546 - val_loss: 0.3689 - val_accuracy: 0.8466\n",
      "Epoch 47/100\n",
      "5359/5359 [==============================] - 1s 201us/step - loss: 0.3438 - accuracy: 0.8558 - val_loss: 0.3683 - val_accuracy: 0.8466\n",
      "Epoch 48/100\n",
      "5359/5359 [==============================] - 1s 204us/step - loss: 0.3432 - accuracy: 0.8548 - val_loss: 0.3680 - val_accuracy: 0.8459\n",
      "Epoch 49/100\n",
      "5359/5359 [==============================] - 1s 201us/step - loss: 0.3429 - accuracy: 0.8537 - val_loss: 0.3678 - val_accuracy: 0.8463\n",
      "Epoch 50/100\n",
      "5359/5359 [==============================] - 1s 186us/step - loss: 0.3423 - accuracy: 0.8569 - val_loss: 0.3674 - val_accuracy: 0.8474\n",
      "Epoch 51/100\n",
      "5359/5359 [==============================] - 1s 183us/step - loss: 0.3416 - accuracy: 0.8574 - val_loss: 0.3675 - val_accuracy: 0.8474\n",
      "Epoch 52/100\n",
      "5359/5359 [==============================] - 1s 195us/step - loss: 0.3410 - accuracy: 0.8569 - val_loss: 0.3664 - val_accuracy: 0.8482\n",
      "Epoch 53/100\n",
      "5359/5359 [==============================] - 1s 190us/step - loss: 0.3409 - accuracy: 0.8574 - val_loss: 0.3664 - val_accuracy: 0.8478\n",
      "Epoch 54/100\n"
     ]
    },
    {
     "name": "stdout",
     "output_type": "stream",
     "text": [
      "5359/5359 [==============================] - 1s 183us/step - loss: 0.3403 - accuracy: 0.8584 - val_loss: 0.3661 - val_accuracy: 0.8489\n",
      "Epoch 55/100\n",
      "5359/5359 [==============================] - 1s 186us/step - loss: 0.3399 - accuracy: 0.8586 - val_loss: 0.3657 - val_accuracy: 0.8489\n",
      "Epoch 56/100\n",
      "5359/5359 [==============================] - 1s 183us/step - loss: 0.3395 - accuracy: 0.8569 - val_loss: 0.3655 - val_accuracy: 0.8485\n",
      "Epoch 57/100\n",
      "5359/5359 [==============================] - 1s 180us/step - loss: 0.3389 - accuracy: 0.8567 - val_loss: 0.3656 - val_accuracy: 0.8474\n",
      "Epoch 58/100\n",
      "5359/5359 [==============================] - 1s 179us/step - loss: 0.3387 - accuracy: 0.8586 - val_loss: 0.3657 - val_accuracy: 0.8474\n",
      "Epoch 59/100\n",
      "5359/5359 [==============================] - 1s 199us/step - loss: 0.3383 - accuracy: 0.8591 - val_loss: 0.3653 - val_accuracy: 0.8466\n",
      "Epoch 60/100\n",
      "5359/5359 [==============================] - 1s 192us/step - loss: 0.3381 - accuracy: 0.8610 - val_loss: 0.3650 - val_accuracy: 0.8463\n",
      "Epoch 61/100\n",
      "5359/5359 [==============================] - 1s 164us/step - loss: 0.3376 - accuracy: 0.8582 - val_loss: 0.3654 - val_accuracy: 0.8482\n",
      "Epoch 62/100\n",
      "5359/5359 [==============================] - 1s 203us/step - loss: 0.3373 - accuracy: 0.8595 - val_loss: 0.3649 - val_accuracy: 0.8474\n",
      "Epoch 63/100\n",
      "5359/5359 [==============================] - 1s 171us/step - loss: 0.3367 - accuracy: 0.8587 - val_loss: 0.3640 - val_accuracy: 0.8485\n",
      "Epoch 64/100\n",
      "5359/5359 [==============================] - 1s 167us/step - loss: 0.3366 - accuracy: 0.8595 - val_loss: 0.3643 - val_accuracy: 0.8493\n",
      "Epoch 65/100\n",
      "5359/5359 [==============================] - 1s 169us/step - loss: 0.3363 - accuracy: 0.8619 - val_loss: 0.3638 - val_accuracy: 0.8493\n",
      "Epoch 66/100\n",
      "5359/5359 [==============================] - 1s 171us/step - loss: 0.3361 - accuracy: 0.8604 - val_loss: 0.3644 - val_accuracy: 0.8489\n",
      "Epoch 67/100\n",
      "5359/5359 [==============================] - 1s 170us/step - loss: 0.3356 - accuracy: 0.8627 - val_loss: 0.3655 - val_accuracy: 0.8474\n",
      "Epoch 68/100\n",
      "5359/5359 [==============================] - 1s 197us/step - loss: 0.3355 - accuracy: 0.8614 - val_loss: 0.3639 - val_accuracy: 0.8489\n",
      "Epoch 69/100\n",
      "5359/5359 [==============================] - 1s 169us/step - loss: 0.3349 - accuracy: 0.8614 - val_loss: 0.3640 - val_accuracy: 0.8485\n",
      "Epoch 70/100\n",
      "5359/5359 [==============================] - 1s 160us/step - loss: 0.3350 - accuracy: 0.8617 - val_loss: 0.3627 - val_accuracy: 0.8519\n",
      "Epoch 71/100\n",
      "5359/5359 [==============================] - 1s 153us/step - loss: 0.3343 - accuracy: 0.8617 - val_loss: 0.3623 - val_accuracy: 0.8501\n",
      "Epoch 72/100\n",
      "5359/5359 [==============================] - 1s 159us/step - loss: 0.3340 - accuracy: 0.8625 - val_loss: 0.3614 - val_accuracy: 0.8519\n",
      "Epoch 73/100\n",
      "5359/5359 [==============================] - 1s 160us/step - loss: 0.3338 - accuracy: 0.8606 - val_loss: 0.3617 - val_accuracy: 0.8546\n",
      "Epoch 74/100\n",
      "5359/5359 [==============================] - 1s 213us/step - loss: 0.3338 - accuracy: 0.8630 - val_loss: 0.3610 - val_accuracy: 0.8527\n",
      "Epoch 75/100\n",
      "5359/5359 [==============================] - 1s 199us/step - loss: 0.3334 - accuracy: 0.8628 - val_loss: 0.3607 - val_accuracy: 0.8538\n",
      "Epoch 76/100\n",
      "5359/5359 [==============================] - 1s 160us/step - loss: 0.3334 - accuracy: 0.8612 - val_loss: 0.3603 - val_accuracy: 0.8542\n",
      "Epoch 77/100\n",
      "5359/5359 [==============================] - 1s 184us/step - loss: 0.3328 - accuracy: 0.8621 - val_loss: 0.3605 - val_accuracy: 0.8554\n",
      "Epoch 78/100\n",
      "5359/5359 [==============================] - 1s 189us/step - loss: 0.3329 - accuracy: 0.8615 - val_loss: 0.3600 - val_accuracy: 0.8542\n",
      "Epoch 79/100\n",
      "5359/5359 [==============================] - 1s 166us/step - loss: 0.3325 - accuracy: 0.8630 - val_loss: 0.3595 - val_accuracy: 0.8546\n",
      "Epoch 80/100\n",
      "5359/5359 [==============================] - 1s 249us/step - loss: 0.3325 - accuracy: 0.8619 - val_loss: 0.3593 - val_accuracy: 0.8531\n",
      "Epoch 81/100\n",
      "5359/5359 [==============================] - 1s 183us/step - loss: 0.3321 - accuracy: 0.8625 - val_loss: 0.3592 - val_accuracy: 0.8554\n",
      "Epoch 82/100\n",
      "5359/5359 [==============================] - 1s 229us/step - loss: 0.3320 - accuracy: 0.8625 - val_loss: 0.3587 - val_accuracy: 0.8538\n",
      "Epoch 83/100\n",
      "5359/5359 [==============================] - 2s 301us/step - loss: 0.3320 - accuracy: 0.8627 - val_loss: 0.3590 - val_accuracy: 0.8538\n",
      "Epoch 84/100\n",
      "5359/5359 [==============================] - 1s 214us/step - loss: 0.3320 - accuracy: 0.8628 - val_loss: 0.3585 - val_accuracy: 0.8542\n",
      "Epoch 85/100\n",
      "5359/5359 [==============================] - 1s 184us/step - loss: 0.3317 - accuracy: 0.8627 - val_loss: 0.3583 - val_accuracy: 0.8546\n",
      "Epoch 86/100\n",
      "5359/5359 [==============================] - 1s 177us/step - loss: 0.3315 - accuracy: 0.8632 - val_loss: 0.3584 - val_accuracy: 0.8535\n",
      "Epoch 87/100\n",
      "5359/5359 [==============================] - 1s 177us/step - loss: 0.3313 - accuracy: 0.8630 - val_loss: 0.3583 - val_accuracy: 0.8542\n",
      "Epoch 88/100\n",
      "5359/5359 [==============================] - 1s 178us/step - loss: 0.3310 - accuracy: 0.8642 - val_loss: 0.3580 - val_accuracy: 0.8542\n",
      "Epoch 89/100\n",
      "5359/5359 [==============================] - 1s 184us/step - loss: 0.3312 - accuracy: 0.8632 - val_loss: 0.3580 - val_accuracy: 0.8535\n",
      "Epoch 90/100\n",
      "5359/5359 [==============================] - 1s 177us/step - loss: 0.3307 - accuracy: 0.8643 - val_loss: 0.3589 - val_accuracy: 0.8519\n",
      "Epoch 91/100\n",
      "5359/5359 [==============================] - 1s 183us/step - loss: 0.3309 - accuracy: 0.8623 - val_loss: 0.3575 - val_accuracy: 0.8535\n",
      "Epoch 92/100\n",
      "5359/5359 [==============================] - 1s 180us/step - loss: 0.3309 - accuracy: 0.8636 - val_loss: 0.3577 - val_accuracy: 0.8527\n",
      "Epoch 93/100\n",
      "5359/5359 [==============================] - 1s 177us/step - loss: 0.3304 - accuracy: 0.8642 - val_loss: 0.3581 - val_accuracy: 0.8508\n",
      "Epoch 94/100\n",
      "5359/5359 [==============================] - 1s 177us/step - loss: 0.3305 - accuracy: 0.8636 - val_loss: 0.3575 - val_accuracy: 0.8527\n",
      "Epoch 95/100\n",
      "5359/5359 [==============================] - 1s 178us/step - loss: 0.3302 - accuracy: 0.8642 - val_loss: 0.3583 - val_accuracy: 0.8523\n",
      "Epoch 96/100\n",
      "5359/5359 [==============================] - 1s 176us/step - loss: 0.3304 - accuracy: 0.8634 - val_loss: 0.3580 - val_accuracy: 0.8557\n",
      "Epoch 97/100\n",
      "5359/5359 [==============================] - 1s 177us/step - loss: 0.3305 - accuracy: 0.8642 - val_loss: 0.3570 - val_accuracy: 0.8542\n",
      "Epoch 98/100\n",
      "5359/5359 [==============================] - 1s 178us/step - loss: 0.3297 - accuracy: 0.8642 - val_loss: 0.3572 - val_accuracy: 0.8565\n",
      "Epoch 99/100\n",
      "5359/5359 [==============================] - 1s 178us/step - loss: 0.3298 - accuracy: 0.8630 - val_loss: 0.3572 - val_accuracy: 0.8565\n",
      "Epoch 100/100\n",
      "5359/5359 [==============================] - 1s 176us/step - loss: 0.3299 - accuracy: 0.8627 - val_loss: 0.3563 - val_accuracy: 0.8565\n"
     ]
    }
   ],
   "source": [
    "# Compiling the ANN\n",
    "classifier.compile(optimizer = 'Adamax', loss = 'binary_crossentropy', metrics = ['accuracy'])\n",
    "\n",
    "# Fitting the ANN to the Training set\n",
    "model_history=classifier.fit(X_train, y_train,validation_split=0.33, batch_size = 10, nb_epoch = 100)"
   ]
  },
  {
   "cell_type": "code",
   "execution_count": 12,
   "metadata": {},
   "outputs": [
    {
     "name": "stdout",
     "output_type": "stream",
     "text": [
      "dict_keys(['val_loss', 'val_accuracy', 'loss', 'accuracy'])\n"
     ]
    },
    {
     "ename": "KeyError",
     "evalue": "'acc'",
     "output_type": "error",
     "traceback": [
      "\u001b[1;31m---------------------------------------------------------------------------\u001b[0m",
      "\u001b[1;31mKeyError\u001b[0m                                  Traceback (most recent call last)",
      "\u001b[1;32m<ipython-input-12-815ba8751159>\u001b[0m in \u001b[0;36m<module>\u001b[1;34m\u001b[0m\n\u001b[0;32m      3\u001b[0m \u001b[0mprint\u001b[0m\u001b[1;33m(\u001b[0m\u001b[0mmodel_history\u001b[0m\u001b[1;33m.\u001b[0m\u001b[0mhistory\u001b[0m\u001b[1;33m.\u001b[0m\u001b[0mkeys\u001b[0m\u001b[1;33m(\u001b[0m\u001b[1;33m)\u001b[0m\u001b[1;33m)\u001b[0m\u001b[1;33m\u001b[0m\u001b[1;33m\u001b[0m\u001b[0m\n\u001b[0;32m      4\u001b[0m \u001b[1;31m# summarize history for accuracy\u001b[0m\u001b[1;33m\u001b[0m\u001b[1;33m\u001b[0m\u001b[1;33m\u001b[0m\u001b[0m\n\u001b[1;32m----> 5\u001b[1;33m \u001b[0mplt\u001b[0m\u001b[1;33m.\u001b[0m\u001b[0mplot\u001b[0m\u001b[1;33m(\u001b[0m\u001b[0mmodel_history\u001b[0m\u001b[1;33m.\u001b[0m\u001b[0mhistory\u001b[0m\u001b[1;33m[\u001b[0m\u001b[1;34m'acc'\u001b[0m\u001b[1;33m]\u001b[0m\u001b[1;33m)\u001b[0m\u001b[1;33m\u001b[0m\u001b[1;33m\u001b[0m\u001b[0m\n\u001b[0m\u001b[0;32m      6\u001b[0m \u001b[0mplt\u001b[0m\u001b[1;33m.\u001b[0m\u001b[0mplot\u001b[0m\u001b[1;33m(\u001b[0m\u001b[0mmodel_history\u001b[0m\u001b[1;33m.\u001b[0m\u001b[0mhistory\u001b[0m\u001b[1;33m[\u001b[0m\u001b[1;34m'val_acc'\u001b[0m\u001b[1;33m]\u001b[0m\u001b[1;33m)\u001b[0m\u001b[1;33m\u001b[0m\u001b[1;33m\u001b[0m\u001b[0m\n\u001b[0;32m      7\u001b[0m \u001b[0mplt\u001b[0m\u001b[1;33m.\u001b[0m\u001b[0mtitle\u001b[0m\u001b[1;33m(\u001b[0m\u001b[1;34m'model accuracy'\u001b[0m\u001b[1;33m)\u001b[0m\u001b[1;33m\u001b[0m\u001b[1;33m\u001b[0m\u001b[0m\n",
      "\u001b[1;31mKeyError\u001b[0m: 'acc'"
     ]
    }
   ],
   "source": [
    "# list all data in history\n",
    "\n",
    "print(model_history.history.keys())\n",
    "# summarize history for accuracy\n",
    "plt.plot(model_history.history['acc'])\n",
    "plt.plot(model_history.history['val_acc'])\n",
    "plt.title('model accuracy')\n",
    "plt.ylabel('accuracy')\n",
    "plt.xlabel('epoch')\n",
    "plt.legend(['train', 'test'], loc='upper left')\n",
    "plt.show()"
   ]
  },
  {
   "cell_type": "code",
   "execution_count": 13,
   "metadata": {},
   "outputs": [
    {
     "data": {
      "image/png": "[encoded data removed]",
      "text/plain": [
       "<Figure size 432x288 with 1 Axes>"
      ]
     },
     "metadata": {
      "needs_background": "light"
     },
     "output_type": "display_data"
    }
   ],
   "source": [
    "# summarize history for loss\n",
    "plt.plot(model_history.history['loss'])\n",
    "plt.plot(model_history.history['val_loss'])\n",
    "plt.title('model loss')\n",
    "plt.ylabel('loss')\n",
    "plt.xlabel('epoch')\n",
    "plt.legend(['train', 'test'], loc='upper left')\n",
    "plt.show()"
   ]
  },
  {
   "cell_type": "code",
   "execution_count": 14,
   "metadata": {},
   "outputs": [],
   "source": [
    "# Part 3 - Making the predictions and evaluating the model\n",
    "\n",
    "# Predicting the Test set results\n",
    "y_pred = classifier.predict(X_test)\n",
    "y_pred = (y_pred > 0.5)"
   ]
  },
  {
   "cell_type": "code",
   "execution_count": 15,
   "metadata": {},
   "outputs": [],
   "source": [
    "# Making the Confusion Matrix\n",
    "from sklearn.metrics import confusion_matrix\n",
    "cm = confusion_matrix(y_test, y_pred)"
   ]
  },
  {
   "cell_type": "code",
   "execution_count": 19,
   "metadata": {},
   "outputs": [
    {
     "name": "stdout",
     "output_type": "stream",
     "text": [
      "[[False]\n",
      " [False]\n",
      " [False]\n",
      " ...\n",
      " [False]\n",
      " [False]\n",
      " [False]]\n"
     ]
    }
   ],
   "source": [
    "# Calculate the Accuracy\n",
    "from sklearn.metrics import accuracy_score\n",
    "score=accuracy_score(y_pred,y_test)\n",
    "print(y_pred)"
   ]
  },
  {
   "cell_type": "code",
   "execution_count": 17,
   "metadata": {},
   "outputs": [
    {
     "data": {
      "text/plain": [
       "array([[1530,   65],\n",
       "       [ 199,  206]], dtype=int64)"
      ]
     },
     "execution_count": 17,
     "metadata": {},
     "output_type": "execute_result"
    }
   ],
   "source": [
    "cm"
   ]
  },
  {
   "cell_type": "code",
   "execution_count": 18,
   "metadata": {},
   "outputs": [
    {
     "data": {
      "text/plain": [
       "0.868"
      ]
     },
     "execution_count": 18,
     "metadata": {},
     "output_type": "execute_result"
    }
   ],
   "source": [
    "score"
   ]
  },
  {
   "cell_type": "code",
   "execution_count": null,
   "metadata": {},
   "outputs": [],
   "source": []
  }
 ],
 "metadata": {
  "kernelspec": {
   "display_name": "Python 3",
   "language": "python",
   "name": "python3"
  },
  "language_info": {
   "codemirror_mode": {
    "name": "ipython",
    "version": 3
   },
   "file_extension": ".py",
   "mimetype": "text/x-python",
   "name": "python",
   "nbconvert_exporter": "python",
   "pygments_lexer": "ipython3",
   "version": "3.7.1"
  }
 },
 "nbformat": 4,
 "nbformat_minor": 4
}
